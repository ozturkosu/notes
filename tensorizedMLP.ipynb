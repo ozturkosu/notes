{
  "nbformat": 4,
  "nbformat_minor": 0,
  "metadata": {
    "colab": {
      "name": "tensorizedMLP.ipynb",
      "provenance": [],
      "authorship_tag": "ABX9TyNUKxWZQEg9bvO58dWOjvg8",
      "include_colab_link": true
    },
    "kernelspec": {
      "name": "python3",
      "display_name": "Python 3"
    }
  },
  "cells": [
    {
      "cell_type": "markdown",
      "metadata": {
        "id": "view-in-github",
        "colab_type": "text"
      },
      "source": [
        "<a href=\"https://colab.research.google.com/github/ozturkosu/notes/blob/master/tensorizedMLP.ipynb\" target=\"_parent\"><img src=\"https://colab.research.google.com/assets/colab-badge.svg\" alt=\"Open In Colab\"/></a>"
      ]
    },
    {
      "cell_type": "code",
      "metadata": {
        "id": "g6jEfXdFtJjZ"
      },
      "source": [
        "import numpy as np\n",
        "import os, sys, random\n",
        "from sklearn.datasets import fetch_20newsgroups"
      ],
      "execution_count": 1,
      "outputs": []
    },
    {
      "cell_type": "code",
      "metadata": {
        "colab": {
          "base_uri": "https://localhost:8080/"
        },
        "id": "kOS8LO7ltU5O",
        "outputId": "7a6b4a1d-9bac-485b-8032-5a7d87b0ce7b"
      },
      "source": [
        "newsgroups_train = fetch_20newsgroups(subset='train')\n",
        "newsgroups_test = fetch_20newsgroups(subset='test')"
      ],
      "execution_count": 2,
      "outputs": [
        {
          "output_type": "stream",
          "text": [
            "Downloading 20news dataset. This may take a few minutes.\n",
            "Downloading dataset from https://ndownloader.figshare.com/files/5975967 (14 MB)\n"
          ],
          "name": "stderr"
        }
      ]
    },
    {
      "cell_type": "code",
      "metadata": {
        "colab": {
          "base_uri": "https://localhost:8080/"
        },
        "id": "Zm--ssXotabz",
        "outputId": "65f7c793-c2b9-4289-b76b-d867e2fbcbed"
      },
      "source": [
        "newsgroups_train.keys()"
      ],
      "execution_count": 3,
      "outputs": [
        {
          "output_type": "execute_result",
          "data": {
            "text/plain": [
              "dict_keys(['data', 'filenames', 'target_names', 'target', 'DESCR'])"
            ]
          },
          "metadata": {
            "tags": []
          },
          "execution_count": 3
        }
      ]
    },
    {
      "cell_type": "code",
      "metadata": {
        "colab": {
          "base_uri": "https://localhost:8080/"
        },
        "id": "h_LZtnmwtehy",
        "outputId": "c90d10de-867d-4b18-8a4d-02213914713b"
      },
      "source": [
        "len(newsgroups_train['data'])"
      ],
      "execution_count": 4,
      "outputs": [
        {
          "output_type": "execute_result",
          "data": {
            "text/plain": [
              "11314"
            ]
          },
          "metadata": {
            "tags": []
          },
          "execution_count": 4
        }
      ]
    },
    {
      "cell_type": "code",
      "metadata": {
        "id": "a5RaCIuAtiZp"
      },
      "source": [
        "random.seed(1)\n",
        "\n",
        "train_size = int(len(newsgroups_train['data'])*0.85)\n",
        "dev_size = len(newsgroups_train['data']) - train_size\n",
        "\n",
        "ng_train = {}\n",
        "ng_train['data']= []\n",
        "ng_train['target'] = []\n",
        "\n",
        "\n",
        "ng_dev = {}\n",
        "ng_dev['data'] = []\n",
        "ng_dev['target'] = []\n"
      ],
      "execution_count": 6,
      "outputs": []
    },
    {
      "cell_type": "code",
      "metadata": {
        "id": "XIpH59JMtmb9"
      },
      "source": [
        "indices = list(range(len(newsgroups_train['data'])))\n",
        "random.shuffle(indices)\n",
        "\n",
        "train_idx = indices[:train_size]\n",
        "dev_idx = indices[train_size:]\n",
        "\n",
        "for i in train_idx:\n",
        "    ng_train['data'].append(newsgroups_train['data'][i])\n",
        "    ng_train['target'].append(newsgroups_train['target'][i])\n",
        "\n",
        "for i in dev_idx:\n",
        "    ng_dev['data'].append(newsgroups_train['data'][i])\n",
        "    ng_dev['target'].append(newsgroups_train['target'][i])\n",
        "\n",
        "#print(len(ng_dev['data']))\n"
      ],
      "execution_count": 8,
      "outputs": []
    },
    {
      "cell_type": "code",
      "metadata": {
        "id": "cSscpc6buT6j"
      },
      "source": [
        "from sklearn.feature_extraction.text import TfidfVectorizer\n",
        "vectorizer = TfidfVectorizer(stop_words='english', max_features=1000)"
      ],
      "execution_count": 10,
      "outputs": []
    },
    {
      "cell_type": "code",
      "metadata": {
        "id": "zKp087bfuWqr"
      },
      "source": [
        "train_x = vectorizer.fit_transform(ng_train['data'])\n"
      ],
      "execution_count": 54,
      "outputs": []
    },
    {
      "cell_type": "code",
      "metadata": {
        "id": "-QYLMolgulUx"
      },
      "source": [
        "#target_x = vectorizer.fit_transform(ng_train['target'])"
      ],
      "execution_count": 56,
      "outputs": []
    },
    {
      "cell_type": "code",
      "metadata": {
        "colab": {
          "base_uri": "https://localhost:8080/"
        },
        "id": "eeNK4UTivWZo",
        "outputId": "4a6115b3-dae8-443a-9faa-1fa064c4a02c"
      },
      "source": [
        "print('Shape of Train Data ', train_x.shape)"
      ],
      "execution_count": 53,
      "outputs": [
        {
          "output_type": "stream",
          "text": [
            "Shape of Train Data  (9616, 1000)\n"
          ],
          "name": "stdout"
        }
      ]
    },
    {
      "cell_type": "code",
      "metadata": {
        "id": "uBBDGB14vble"
      },
      "source": [
        "dev_x = vectorizer.transform(ng_dev['data'])"
      ],
      "execution_count": 57,
      "outputs": []
    },
    {
      "cell_type": "code",
      "metadata": {
        "id": "JBOCgEFpvemd"
      },
      "source": [
        "test_x = vectorizer.transform(newsgroups_test['data'])"
      ],
      "execution_count": 58,
      "outputs": []
    },
    {
      "cell_type": "code",
      "metadata": {
        "colab": {
          "base_uri": "https://localhost:8080/"
        },
        "id": "b6falxwNvhuM",
        "outputId": "0080ac9b-f350-4f11-caf3-af5338133f39"
      },
      "source": [
        "print('Shape of Dev Data ', dev_x.shape)"
      ],
      "execution_count": 19,
      "outputs": [
        {
          "output_type": "stream",
          "text": [
            "Shape of Dev Data  (1698, 1000)\n"
          ],
          "name": "stdout"
        }
      ]
    },
    {
      "cell_type": "code",
      "metadata": {
        "colab": {
          "base_uri": "https://localhost:8080/"
        },
        "id": "x5QK4zP6vl9x",
        "outputId": "9a8e5c3e-6fb4-4c29-da3d-6f4530f92db3"
      },
      "source": [
        "print('Shape of Test Data ', test_x.shape)"
      ],
      "execution_count": 20,
      "outputs": [
        {
          "output_type": "stream",
          "text": [
            "Shape of Test Data  (7532, 1000)\n"
          ],
          "name": "stdout"
        }
      ]
    },
    {
      "cell_type": "code",
      "metadata": {
        "id": "1JdpcBNlvuDB"
      },
      "source": [
        "import torch\n",
        "import torch.nn as nn\n",
        "import torch.nn.functional as F"
      ],
      "execution_count": 45,
      "outputs": []
    },
    {
      "cell_type": "code",
      "metadata": {
        "id": "qa39I5iOv2id"
      },
      "source": [
        "class MLP(nn.Module):\n",
        "\n",
        "  def __init__(self, r1=2, r2=2 , i=10 , j=10, k=10 , l=5 , m=10, n=2):\n",
        "    super(MLP, self).__init__()\n",
        "\n",
        "    self.T1=nn.Parameter(torch.rand(l,i,r1), requires_grad=True)\n",
        "    self.T2=nn.Parameter(torch.rand(r1,m,j,r2), requires_grad=True)\n",
        "    self.T3=nn.Parameter(torch.rand(n, k, r2), requires_grad=True)\n",
        "\n",
        "    def forward(self, y):\n",
        "\n",
        "    # Reshape y to make it 3D tensor from 1D tensor (vector)\n",
        "      yt=y.view(10,10,10)\n",
        "\n",
        "    # Calculate Tensor Contraction  P=T1y      T1y = T1*y # Note as index r2 represented in einsum as w #\n",
        "      P=torch.einsum('lir,iyz->lryz', [self.T1, yt])\n",
        "\n",
        "    # Calculate Tensor Contraction  Q=T1yT2   T1yT2 = (T1y) * T2\n",
        "      Q=torch.einsum('lryz,rmyw->lzmw',[P,self.T2])\n",
        "\n",
        "    # Calculate Tensor Contraction  R=T1yT2T3   T1yT2T3 = (T1yT2)* T3  #  k and z are same as indices\n",
        "      R=torch.einsum('lzmw,nzw->lmn', [Q, self.T3]). # 3d Tensor with 2*5*10\n",
        "\n",
        "    # Apply aktivation function\n",
        "      result=F.log_softmax(R) \n",
        "\n",
        "      return result  \n",
        "\n"
      ],
      "execution_count": 67,
      "outputs": []
    },
    {
      "cell_type": "code",
      "metadata": {
        "id": "D8Uhhf_czojd"
      },
      "source": [
        "model= MLP()"
      ],
      "execution_count": 34,
      "outputs": []
    },
    {
      "cell_type": "code",
      "metadata": {
        "colab": {
          "base_uri": "https://localhost:8080/"
        },
        "id": "rpGfJxL60MDj",
        "outputId": "a6e1671e-8eeb-41de-ec7a-7e552849c969"
      },
      "source": [
        "model.train()"
      ],
      "execution_count": 68,
      "outputs": [
        {
          "output_type": "execute_result",
          "data": {
            "text/plain": [
              "MLP()"
            ]
          },
          "metadata": {
            "tags": []
          },
          "execution_count": 68
        }
      ]
    },
    {
      "cell_type": "code",
      "metadata": {
        "id": "Kfke7ld9zuNp"
      },
      "source": [
        "#Specify Optimizer\n",
        "optimizer = torch.optim.SGD(model.parameters(), lr=0.01)\n",
        "\n",
        "#Specify Loss Function\n",
        "criterion = nn.CrossEntropyLoss()\n",
        "\n"
      ],
      "execution_count": null,
      "outputs": []
    },
    {
      "cell_type": "code",
      "metadata": {
        "id": "U9-qBxjs0RMK"
      },
      "source": [
        "n_epochs = 10\n",
        "traindata_size = train_size\n",
        "for epoch in range(n_epochs):\n",
        "    #monitor training loss\n",
        "    loss=0.0\n",
        "    for i in range(traindata_size):\n",
        "        \n",
        "        optimizer.zero_grad()\n",
        "\n",
        "        #Forward Pass: compute predicted outputs by passing inputs to the model\n",
        "        output = model(train_x[i])\n",
        "\n",
        "        #Calculate the loss\n",
        "        if(output != target_x[i])\n",
        "          loss+=1\n",
        "        #loss = criterion(output, target_x[i])  # This is wrong since I do not know how to find target\n",
        "\n",
        "\n",
        "        \n",
        "        #Backward pass: compute gradient of the loss with respect to model parameters  \n",
        "\n",
        "        loss.backward()\n",
        "        optimizer.step()\n",
        "\n",
        "    loss=loss/train_size\n",
        "    print('For Epoch: {}, Loss:{}'.format(epoch, loss.item()))"
      ],
      "execution_count": null,
      "outputs": []
    }
  ]
}